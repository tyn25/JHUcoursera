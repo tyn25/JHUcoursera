{
    "cells": [
        {
            "cell_type": "markdown",
            "metadata": {},
            "source": "# Segmenting and Clustering Neighbourhoods in Toronto"
        },
        {
            "cell_type": "markdown",
            "metadata": {},
            "source": "Importing libraries "
        },
        {
            "cell_type": "code",
            "execution_count": 1,
            "metadata": {},
            "outputs": [],
            "source": "import pandas as pd\nimport numpy as np\nimport requests"
        },
        {
            "cell_type": "markdown",
            "metadata": {},
            "source": "Get the HTML page of Wiki, and using read_html we convert the html data into list of Data frame objects."
        },
        {
            "cell_type": "markdown",
            "metadata": {},
            "source": "Remove cells which have borrow not assigned.\n"
        },
        {
            "cell_type": "code",
            "execution_count": 82,
            "metadata": {
                "scrolled": false
            },
            "outputs": [
                {
                    "data": {
                        "text/html": "<div>\n<style scoped>\n    .dataframe tbody tr th:only-of-type {\n        vertical-align: middle;\n    }\n\n    .dataframe tbody tr th {\n        vertical-align: top;\n    }\n\n    .dataframe thead th {\n        text-align: right;\n    }\n</style>\n<table border=\"1\" class=\"dataframe\">\n  <thead>\n    <tr style=\"text-align: right;\">\n      <th></th>\n      <th>index</th>\n      <th>variable</th>\n      <th>value</th>\n    </tr>\n  </thead>\n  <tbody>\n    <tr>\n      <th>0</th>\n      <td>1</td>\n      <td>0</td>\n      <td>M1BScarborough(Malvern / Rouge)</td>\n    </tr>\n    <tr>\n      <th>1</th>\n      <td>2</td>\n      <td>0</td>\n      <td>M1CScarborough(Rouge Hill / Port Union / Highl...</td>\n    </tr>\n    <tr>\n      <th>2</th>\n      <td>3</td>\n      <td>0</td>\n      <td>M1EScarborough(Guildwood / Morningside / West ...</td>\n    </tr>\n    <tr>\n      <th>3</th>\n      <td>4</td>\n      <td>0</td>\n      <td>M1GScarborough(Woburn)</td>\n    </tr>\n    <tr>\n      <th>4</th>\n      <td>5</td>\n      <td>0</td>\n      <td>M1HScarborough(Cedarbrae)</td>\n    </tr>\n    <tr>\n      <th>...</th>\n      <td>...</td>\n      <td>...</td>\n      <td>...</td>\n    </tr>\n    <tr>\n      <th>98</th>\n      <td>170</td>\n      <td>8</td>\n      <td>M9NYork(Weston)</td>\n    </tr>\n    <tr>\n      <th>99</th>\n      <td>171</td>\n      <td>8</td>\n      <td>M9PEtobicoke(Westmount)</td>\n    </tr>\n    <tr>\n      <th>100</th>\n      <td>172</td>\n      <td>8</td>\n      <td>M9REtobicoke(Kingsview Village / St. Phillips ...</td>\n    </tr>\n    <tr>\n      <th>101</th>\n      <td>175</td>\n      <td>8</td>\n      <td>M9VEtobicoke(South Steeles / Silverstone / Hum...</td>\n    </tr>\n    <tr>\n      <th>102</th>\n      <td>176</td>\n      <td>8</td>\n      <td>M9WEtobicokeNorthwest(Clairville / Humberwood ...</td>\n    </tr>\n  </tbody>\n</table>\n<p>103 rows \u00d7 3 columns</p>\n</div>",
                        "text/plain": "     index  variable                                              value\n0        1         0                    M1BScarborough(Malvern / Rouge)\n1        2         0  M1CScarborough(Rouge Hill / Port Union / Highl...\n2        3         0  M1EScarborough(Guildwood / Morningside / West ...\n3        4         0                             M1GScarborough(Woburn)\n4        5         0                          M1HScarborough(Cedarbrae)\n..     ...       ...                                                ...\n98     170         8                                    M9NYork(Weston)\n99     171         8                            M9PEtobicoke(Westmount)\n100    172         8  M9REtobicoke(Kingsview Village / St. Phillips ...\n101    175         8  M9VEtobicoke(South Steeles / Silverstone / Hum...\n102    176         8  M9WEtobicokeNorthwest(Clairville / Humberwood ...\n\n[103 rows x 3 columns]"
                    },
                    "execution_count": 82,
                    "metadata": {},
                    "output_type": "execute_result"
                }
            ],
            "source": "wiki = 'https://en.wikipedia.org/wiki/List_of_postal_codes_of_Canada:_M'\nwiki_page = requests.get(wiki)\nwiki_raw = pd.read_html(wiki_page.content)[0]\n#Check wiki URL to understand Code below\ndf=wiki_raw.melt() #Melting grid to single column\ndf=df[df.value.str.contains(\"Not assigned\")==False]\ndf.reset_index(inplace = True)\n#Splitting value into Borough,Neighborhood,Postalcode\ndf['Postal Code'] = df['value'].map(lambda x: x[0:3]) #Extracting First 3 Characters i.e Postal Code \ndf['value']=df['value'].map(lambda x: x[3:]) #Isolating the postal code to extract Borough,Neighborhood by splitting with \"(\"\ndf[['Borough','Neighborhood','Empty']] =df.value.str.split('(',expand=True)\ndf['Neighborhood']=df['Neighborhood'].str.replace(')', '', regex=False) #Removing ) from Neighborhood\ndf['Neighborhood']=df['Neighborhood'].str.replace('/', ',', regex=False) #Replacing / with \"\"\ndf.drop(columns = ['variable','value','Empty'],inplace = True)"
        },
        {
            "cell_type": "code",
            "execution_count": 78,
            "metadata": {},
            "outputs": [
                {
                    "data": {
                        "text/html": "<div>\n<style scoped>\n    .dataframe tbody tr th:only-of-type {\n        vertical-align: middle;\n    }\n\n    .dataframe tbody tr th {\n        vertical-align: top;\n    }\n\n    .dataframe thead th {\n        text-align: right;\n    }\n</style>\n<table border=\"1\" class=\"dataframe\">\n  <thead>\n    <tr style=\"text-align: right;\">\n      <th></th>\n      <th>index</th>\n      <th>Borough</th>\n      <th>Neighborhood</th>\n    </tr>\n    <tr>\n      <th>Postal Code</th>\n      <th></th>\n      <th></th>\n      <th></th>\n    </tr>\n  </thead>\n  <tbody>\n    <tr>\n      <th>M1B</th>\n      <td>1</td>\n      <td>Scarborough</td>\n      <td>Malvern , Rouge</td>\n    </tr>\n    <tr>\n      <th>M1C</th>\n      <td>2</td>\n      <td>Scarborough</td>\n      <td>Rouge Hill , Port Union , Highland Creek</td>\n    </tr>\n    <tr>\n      <th>M1E</th>\n      <td>3</td>\n      <td>Scarborough</td>\n      <td>Guildwood , Morningside , West Hill</td>\n    </tr>\n    <tr>\n      <th>M1G</th>\n      <td>4</td>\n      <td>Scarborough</td>\n      <td>Woburn</td>\n    </tr>\n    <tr>\n      <th>M1H</th>\n      <td>5</td>\n      <td>Scarborough</td>\n      <td>Cedarbrae</td>\n    </tr>\n    <tr>\n      <th>...</th>\n      <td>...</td>\n      <td>...</td>\n      <td>...</td>\n    </tr>\n    <tr>\n      <th>M9N</th>\n      <td>170</td>\n      <td>York</td>\n      <td>Weston</td>\n    </tr>\n    <tr>\n      <th>M9P</th>\n      <td>171</td>\n      <td>Etobicoke</td>\n      <td>Westmount</td>\n    </tr>\n    <tr>\n      <th>M9R</th>\n      <td>172</td>\n      <td>Etobicoke</td>\n      <td>Kingsview Village , St. Phillips , Martin Grov...</td>\n    </tr>\n    <tr>\n      <th>M9V</th>\n      <td>175</td>\n      <td>Etobicoke</td>\n      <td>South Steeles , Silverstone , Humbergate , Jam...</td>\n    </tr>\n    <tr>\n      <th>M9W</th>\n      <td>176</td>\n      <td>EtobicokeNorthwest</td>\n      <td>Clairville , Humberwood , Woodbine Downs , Wes...</td>\n    </tr>\n  </tbody>\n</table>\n<p>103 rows \u00d7 3 columns</p>\n</div>",
                        "text/plain": "             index             Borough  \\\nPostal Code                              \nM1B              1         Scarborough   \nM1C              2         Scarborough   \nM1E              3         Scarborough   \nM1G              4         Scarborough   \nM1H              5         Scarborough   \n...            ...                 ...   \nM9N            170                York   \nM9P            171           Etobicoke   \nM9R            172           Etobicoke   \nM9V            175           Etobicoke   \nM9W            176  EtobicokeNorthwest   \n\n                                                  Neighborhood  \nPostal Code                                                     \nM1B                                            Malvern , Rouge  \nM1C                   Rouge Hill , Port Union , Highland Creek  \nM1E                        Guildwood , Morningside , West Hill  \nM1G                                                     Woburn  \nM1H                                                  Cedarbrae  \n...                                                        ...  \nM9N                                                     Weston  \nM9P                                                  Westmount  \nM9R          Kingsview Village , St. Phillips , Martin Grov...  \nM9V          South Steeles , Silverstone , Humbergate , Jam...  \nM9W          Clairville , Humberwood , Woodbine Downs , Wes...  \n\n[103 rows x 3 columns]"
                    },
                    "execution_count": 78,
                    "metadata": {},
                    "output_type": "execute_result"
                }
            ],
            "source": "df.groupby(['Postal Code']).first()"
        },
        {
            "cell_type": "markdown",
            "metadata": {},
            "source": "The new Wiki link already has nieghborhood merged according to Postal Code and Borough\n"
        },
        {
            "cell_type": "code",
            "execution_count": 79,
            "metadata": {},
            "outputs": [
                {
                    "data": {
                        "text/plain": "103"
                    },
                    "execution_count": 79,
                    "metadata": {},
                    "output_type": "execute_result"
                }
            ],
            "source": "len(df['Postal Code'].unique())"
        },
        {
            "cell_type": "code",
            "execution_count": 80,
            "metadata": {},
            "outputs": [
                {
                    "data": {
                        "text/html": "<div>\n<style scoped>\n    .dataframe tbody tr th:only-of-type {\n        vertical-align: middle;\n    }\n\n    .dataframe tbody tr th {\n        vertical-align: top;\n    }\n\n    .dataframe thead th {\n        text-align: right;\n    }\n</style>\n<table border=\"1\" class=\"dataframe\">\n  <thead>\n    <tr style=\"text-align: right;\">\n      <th></th>\n      <th>index</th>\n      <th>Postal Code</th>\n      <th>Borough</th>\n      <th>Neighborhood</th>\n    </tr>\n  </thead>\n  <tbody>\n  </tbody>\n</table>\n</div>",
                        "text/plain": "Empty DataFrame\nColumns: [index, Postal Code, Borough, Neighborhood]\nIndex: []"
                    },
                    "execution_count": 80,
                    "metadata": {},
                    "output_type": "execute_result"
                }
            ],
            "source": "df[df['Borough'] == 'Not assigned']"
        },
        {
            "cell_type": "code",
            "execution_count": 81,
            "metadata": {},
            "outputs": [
                {
                    "data": {
                        "text/plain": "(103, 4)"
                    },
                    "execution_count": 81,
                    "metadata": {},
                    "output_type": "execute_result"
                }
            ],
            "source": "df.shape"
        },
        {
            "cell_type": "code",
            "execution_count": null,
            "metadata": {},
            "outputs": [],
            "source": ""
        }
    ],
    "metadata": {
        "kernelspec": {
            "display_name": "Python 3.7",
            "language": "python",
            "name": "python3"
        },
        "language_info": {
            "codemirror_mode": {
                "name": "ipython",
                "version": 3
            },
            "file_extension": ".py",
            "mimetype": "text/x-python",
            "name": "python",
            "nbconvert_exporter": "python",
            "pygments_lexer": "ipython3",
            "version": "3.7.10"
        }
    },
    "nbformat": 4,
    "nbformat_minor": 4
}